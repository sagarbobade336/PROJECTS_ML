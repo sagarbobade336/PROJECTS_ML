{
  "nbformat": 4,
  "nbformat_minor": 0,
  "metadata": {
    "colab": {
      "provenance": []
    },
    "kernelspec": {
      "name": "python3",
      "display_name": "Python 3"
    },
    "language_info": {
      "name": "python"
    }
  },
  "cells": [
    {
      "cell_type": "code",
      "execution_count": 12,
      "metadata": {
        "id": "0k0kNG5_-_dm"
      },
      "outputs": [],
      "source": [
        "import geopy.distance\n",
        "\n",
        "def get_distance(location_1, location_2):\n",
        "\n",
        "    distance = geopy.distance.distance(location_1, location_2).km\n",
        "\n",
        "    return distance"
      ]
    },
    {
      "cell_type": "code",
      "source": [
        "location_1 = (18, 73) #pune\n",
        "location_2 = (21, 79) #nagpure"
      ],
      "metadata": {
        "id": "Uo-IVcs2z42F"
      },
      "execution_count": 19,
      "outputs": []
    },
    {
      "cell_type": "code",
      "source": [
        "get_distance(location_1, location_2)"
      ],
      "metadata": {
        "colab": {
          "base_uri": "https://localhost:8080/"
        },
        "id": "to7d7XfTz--y",
        "outputId": "fc574ad0-5b13-495a-82cf-934ad86ef126"
      },
      "execution_count": 20,
      "outputs": [
        {
          "output_type": "execute_result",
          "data": {
            "text/plain": [
              "711.9143858986774"
            ]
          },
          "metadata": {},
          "execution_count": 20
        }
      ]
    },
    {
      "cell_type": "code",
      "source": [
        "def get_price_per_km(hour):\n",
        "\n",
        "    if (hour > 8) & (hour < 11):\n",
        "        price_per_km = 20\n",
        "    elif (hour > 18) & (hour < 21):\n",
        "        price_per_km = 15\n",
        "    else:\n",
        "        price_per_km = 10\n",
        "\n",
        "    return price_per_km"
      ],
      "metadata": {
        "id": "U7HLX0pHMrOP"
      },
      "execution_count": 17,
      "outputs": []
    },
    {
      "cell_type": "code",
      "source": [
        "get_price_per_km(19)"
      ],
      "metadata": {
        "colab": {
          "base_uri": "https://localhost:8080/"
        },
        "id": "4Go4Ahz50XWT",
        "outputId": "1d5127ef-9adc-49de-8c61-d17deab63015"
      },
      "execution_count": 21,
      "outputs": [
        {
          "output_type": "execute_result",
          "data": {
            "text/plain": [
              "15"
            ]
          },
          "metadata": {},
          "execution_count": 21
        }
      ]
    },
    {
      "cell_type": "code",
      "source": [
        "def get_final_price(pick_up_location, drop_location, booking_hour):\n",
        "\n",
        "    total_distance = get_distance(pick_up_location, drop_location)\n",
        "    actual_price_per_km = get_price_per_km(booking_hour)\n",
        "\n",
        "    final_price = round(total_distance * actual_price_per_km, 2)\n",
        "\n",
        "    return final_price\n"
      ],
      "metadata": {
        "id": "ut5hh9tkNK_L"
      },
      "execution_count": 13,
      "outputs": []
    },
    {
      "cell_type": "code",
      "source": [
        "pick_up_location = (18, 73) #pune\n",
        "drop_location = (21, 79) #nagpure\n",
        "booking_time = 19 # 15"
      ],
      "metadata": {
        "id": "QRnHl8yINsfN"
      },
      "execution_count": 14,
      "outputs": []
    },
    {
      "cell_type": "code",
      "source": [
        "get_final_price(pick_up_location, drop_location, booking_time)"
      ],
      "metadata": {
        "colab": {
          "base_uri": "https://localhost:8080/"
        },
        "id": "CGIorqScxLk3",
        "outputId": "0d45d30a-6f90-4045-a200-db1fd4cddf7a"
      },
      "execution_count": 18,
      "outputs": [
        {
          "output_type": "execute_result",
          "data": {
            "text/plain": [
              "10678.72"
            ]
          },
          "metadata": {},
          "execution_count": 18
        }
      ]
    },
    {
      "cell_type": "markdown",
      "source": [
        "#Uber's simplified pricing model\n",
        "\n",
        "When you request an Uber, you enter your pick-up location and the destination. Based on the distance, peak hours, willingness to pay and many other factors, Uber uses a machine learning algorithm to compute what prices will be shown to you.\n",
        "\n",
        "Let's consider a simplistic version of the Uber Pricing Model where you compute the price based on the distance between the pick-up and the drop location and the time of the booking.\n",
        "\n",
        "User Inputs:\n",
        "\n",
        "Pick-up location (pick_up_latitude, pick_up_longitude)\n",
        "\n",
        "Drop location (drop_latitude, drop_longitude)\n",
        "\n",
        "Time of booking\n",
        "\n",
        "Output:\n",
        "\n",
        "Final Price"
      ],
      "metadata": {
        "id": "YeqxNroYA_jL"
      }
    },
    {
      "cell_type": "code",
      "source": [
        "pip install qrcode\n"
      ],
      "metadata": {
        "colab": {
          "base_uri": "https://localhost:8080/"
        },
        "id": "jhng3mC29Dp7",
        "outputId": "06bdf5d9-1fd3-4a90-ecd6-7bbc9f9ac683"
      },
      "execution_count": 22,
      "outputs": [
        {
          "output_type": "stream",
          "name": "stdout",
          "text": [
            "Collecting qrcode\n",
            "  Downloading qrcode-8.2-py3-none-any.whl.metadata (17 kB)\n",
            "Downloading qrcode-8.2-py3-none-any.whl (45 kB)\n",
            "\u001b[?25l   \u001b[90m━━━━━━━━━━━━━━━━━━━━━━━━━━━━━━━━━━━━━━━━\u001b[0m \u001b[32m0.0/46.0 kB\u001b[0m \u001b[31m?\u001b[0m eta \u001b[36m-:--:--\u001b[0m\r\u001b[2K   \u001b[90m━━━━━━━━━━━━━━━━━━━━━━━━━━━━━━━━━━━━━━━━\u001b[0m \u001b[32m46.0/46.0 kB\u001b[0m \u001b[31m1.6 MB/s\u001b[0m eta \u001b[36m0:00:00\u001b[0m\n",
            "\u001b[?25hInstalling collected packages: qrcode\n",
            "Successfully installed qrcode-8.2\n"
          ]
        }
      ]
    },
    {
      "cell_type": "code",
      "source": [
        "pip install pillow"
      ],
      "metadata": {
        "colab": {
          "base_uri": "https://localhost:8080/"
        },
        "id": "CWsQIhuA9Dcj",
        "outputId": "4304be5f-c44c-431a-b463-1b643bf30eb1"
      },
      "execution_count": 23,
      "outputs": [
        {
          "output_type": "stream",
          "name": "stdout",
          "text": [
            "Requirement already satisfied: pillow in /usr/local/lib/python3.11/dist-packages (11.2.1)\n"
          ]
        }
      ]
    },
    {
      "cell_type": "code",
      "source": [
        "import geopy.distance\n",
        "import qrcode\n",
        "from IPython.display import Image, display\n",
        "\n",
        "def get_distance(location_1, location_2):\n",
        "    return geopy.distance.distance(location_1, location_2).km\n",
        "\n",
        "def get_price_per_km(hour):\n",
        "    if 8 < hour < 11:\n",
        "        return 20\n",
        "    elif 18 < hour < 21:\n",
        "        return 15\n",
        "    else:\n",
        "        return 10\n",
        "\n",
        "def get_final_price(pick_up_location, drop_location, booking_hour):\n",
        "    distance = get_distance(pick_up_location, drop_location)\n",
        "    price_per_km = get_price_per_km(booking_hour)\n",
        "    return round(distance * price_per_km, 2)\n",
        "\n",
        "def generate_upi_qr(upi_id, payee_name, amount, filename=\"payment_qr.png\"):\n",
        "    upi_link = f\"upi://pay?pa={upi_id}&pn={payee_name}&am={amount}&cu=INR\"\n",
        "    qr = qrcode.make(upi_link)\n",
        "    qr.save(filename)\n",
        "    return filename"
      ],
      "metadata": {
        "id": "5yaiqyX1xiE1"
      },
      "execution_count": 24,
      "outputs": []
    },
    {
      "cell_type": "code",
      "source": [
        "lat1 = float(input(\"Pickup latitude: \"))\n",
        "lon1 = float(input(\"Pickup longitude: \"))\n",
        "lat2 = float(input(\"Drop latitude: \"))\n",
        "lon2 = float(input(\"Drop longitude: \"))\n",
        "hour = int(input(\"Booking hour (0–23): \"))\n",
        "\n",
        "price = get_final_price((lat1, lon1), (lat2, lon2), hour)\n",
        "print(f\"\\n🧾 Total fare: ₹{price}\")\n",
        "\n",
        "upi_id = input(\"\\nEnter UPI ID (e.g., yourname@bank): \")\n",
        "name = input(\"Enter payee name: \")\n",
        "\n",
        "qr_file = generate_upi_qr(upi_id, name, price)\n",
        "print(f\"\\n✅ UPI QR Code generated for ₹{price} and saved as '{qr_file}'\")\n",
        "\n",
        "display(Image(filename=qr_file))"
      ],
      "metadata": {
        "colab": {
          "base_uri": "https://localhost:8080/",
          "height": 618
        },
        "id": "3KRnWwuE_Cl3",
        "outputId": "6c5865bb-f0f6-461f-ed81-b5aebaf80d29"
      },
      "execution_count": 27,
      "outputs": [
        {
          "output_type": "stream",
          "name": "stdout",
          "text": [
            "Pickup latitude: 21\n",
            "Pickup longitude: 72\n",
            "Drop latitude: 18\n",
            "Drop longitude: 79\n",
            "\n",
            "🧾 Total fare: ₹8062.23\n",
            "\n",
            "Enter UPI ID (e.g., yourname@bank): 8275355816@ybl\n",
            "Enter payee name: sagar\n",
            "\n",
            "✅ UPI QR Code generated for ₹8062.23 and saved as 'payment_qr.png'\n"
          ]
        },
        {
          "output_type": "display_data",
          "data": {
            "image/png": "[encoded data removed]",
            "text/plain": [
              "<IPython.core.display.Image object>"
            ]
          },
          "metadata": {}
        }
      ]
    },
    {
      "cell_type": "code",
      "source": [],
      "metadata": {
        "id": "Pr1mSaye_7d3"
      },
      "execution_count": null,
      "outputs": []
    }
  ]
}